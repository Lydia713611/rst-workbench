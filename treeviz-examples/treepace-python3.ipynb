{
 "cells": [
  {
   "cell_type": "code",
   "execution_count": 1,
   "metadata": {},
   "outputs": [],
   "source": [
    "import treepace\n",
    "from treepace import Node, Tree"
   ]
  },
  {
   "cell_type": "code",
   "execution_count": 2,
   "metadata": {},
   "outputs": [
    {
     "data": {
      "text/html": [
       "<table style=\"border: none;\"><tr style=\"border: none\"><td style=\"border-width: 2px 0px 2px 2px; width: 20px;\"></td><td style=\"border: none; padding: 8px 0 5px 0;\"><img src=\"https://chart.googleapis.com/chart?cht=gv&chl=digraph%7Branksep%3D0.2%3Bnode%5Bshape%3Dbox%2Cwidth%3D0.05%2Cheight%3D0.05%2Cmargin%3D0.04%2Ccolor%3D%22%23C7C7C7%22%2Cstyle%3Dfilled%2Cfillcolor%3D%22%23F3F3F3%22%2Cfontsize%3D10%2Cfontcolor%3D%22%23333333%22%5D%3Bedge%5Bpenwidth%3D1%2Carrowhead%3Dnone%2Ccolor%3D%22%23C7C7C8%22%5D%3Bn0%5Blabel%3D%22shop%22%5D%3Bn1%5Blabel%3D%22item%22%5D%3Bn2%5Blabel%3D%22bread%22%5D%3Bn3%5Blabel%3D%22item%22%2Ccolor%3D%22%235D8C55%22%2Cfillcolor%3D%22%23A7FF99%22%5D%3Bn4%5Blabel%3D%22water%22%2Ccolor%3D%22%235D8C55%22%2Cfillcolor%3D%22%23A7FF99%22%5D%3Bn5%5Blabel%3D%22item%22%5D%3Bn6%5Blabel%3D%22roll%22%5D%3Bn7%5Blabel%3D%22item%22%5D%3Bn8%5Blabel%3D%22water%22%5D%3Bn0-%3En1%3Bn1-%3En2%3Bn0-%3En3%3Bn3-%3En4%5Bcolor%3D%22%235D8C55%22%5D%3Bn0-%3En5%3Bn5-%3En6%3Bn0-%3En7%3Bn7-%3En8%3Bsubgraph+cluster_1%7Blabel%3D1%3Bfontsize%3D9%3Bstyle%3Ddashed%3Bn3%3B%7D%7D&ext=.png\"/></td><td style=\"border: none; vertical-align: bottom; font-size: 35px;\">,&nbsp;</td><td style=\"border: none; padding: 8px 0 5px 0;\"><img src=\"https://chart.googleapis.com/chart?cht=gv&chl=digraph%7Branksep%3D0.2%3Bnode%5Bshape%3Dbox%2Cwidth%3D0.05%2Cheight%3D0.05%2Cmargin%3D0.04%2Ccolor%3D%22%23C7C7C7%22%2Cstyle%3Dfilled%2Cfillcolor%3D%22%23F3F3F3%22%2Cfontsize%3D10%2Cfontcolor%3D%22%23333333%22%5D%3Bedge%5Bpenwidth%3D1%2Carrowhead%3Dnone%2Ccolor%3D%22%23C7C7C8%22%5D%3Bn0%5Blabel%3D%22shop%22%5D%3Bn1%5Blabel%3D%22item%22%5D%3Bn2%5Blabel%3D%22bread%22%5D%3Bn3%5Blabel%3D%22item%22%5D%3Bn4%5Blabel%3D%22water%22%5D%3Bn5%5Blabel%3D%22item%22%5D%3Bn6%5Blabel%3D%22roll%22%5D%3Bn7%5Blabel%3D%22item%22%2Ccolor%3D%22%235D8C55%22%2Cfillcolor%3D%22%23A7FF99%22%5D%3Bn8%5Blabel%3D%22water%22%2Ccolor%3D%22%235D8C55%22%2Cfillcolor%3D%22%23A7FF99%22%5D%3Bn0-%3En1%3Bn1-%3En2%3Bn0-%3En3%3Bn3-%3En4%3Bn0-%3En5%3Bn5-%3En6%3Bn0-%3En7%3Bn7-%3En8%5Bcolor%3D%22%235D8C55%22%5D%3Bsubgraph+cluster_1%7Blabel%3D1%3Bfontsize%3D9%3Bstyle%3Ddashed%3Bn7%3B%7D%7D&ext=.png\"/></td><td style=\"border-width: 2px 2px 2px 0px; width: 20px;\"></td></tr></table>"
      ],
      "text/plain": [
       "[<Match '['item (water)', 'item']' @7f63d40c6910>,\n",
       " <Match '['item (water)', 'item']' @7f63d40c6e10>]"
      ]
     },
     "metadata": {},
     "output_type": "display_data"
    }
   ],
   "source": [
    "\n",
    "\n",
    "#shop = Tree.load('shop (item (bread) item (water) item (roll) item (water))')\n",
    "#pattern = '{item} < water'\n",
    "#display(shop.search(pattern))"
   ]
  },
  {
   "cell_type": "code",
   "execution_count": 3,
   "metadata": {},
   "outputs": [],
   "source": [
    "leaves = [\n",
    "    'Students and lecturers alike are worried about global warming and related climate change .',\n",
    "     'With a clear ecological conscience and convinced that they stand on the right side of history , they cycle to their university campus , buy a vegetarian sandwich on the wayand were jointly outraged',\n",
    "     'when Donald Trump pulled the US out of the Paris Climate Agreement .',\n",
    "     'However , their own contribution to climate change is all too often ignored .']"
   ]
  },
  {
   "cell_type": "code",
   "execution_count": 4,
   "metadata": {},
   "outputs": [],
   "source": [
    "hilda_ascii = \"\"\"\n",
    "Elaboration                                   \n",
    "        _______________________________|_____________                            \n",
    "       |                                             S                          \n",
    "       |                                             |                           \n",
    "       |                                        Elaboration                     \n",
    "       |                                _____________|_________________          \n",
    "       |                               N                               |        \n",
    "       |                               |                               |         \n",
    "       |                           Background                          |        \n",
    "       |                 ______________|_____________                  |         \n",
    "       N                N                            S                 S        \n",
    "       |                |                            |                 |         \n",
    " Students and     With a clear                  when Donald     However , their \n",
    "lecturers alike     ecological                Trump pulled the        own       \n",
    "                 conscience and                                 contribution to \n",
    "  are worried     convinced that               US out of the     climate change \n",
    "  about global                                 Paris Climate                    \n",
    "                  they stand on                                is all too often \n",
    "  warming and     the right side                Agreement .        ignored .    \n",
    "related climate                                                                 \n",
    "                  of history ,                                                  \n",
    "    change .      they cycle to                                                 \n",
    "                                                                                \n",
    "                their university                                                \n",
    "                   campus , buy                                                 \n",
    "                                                                                \n",
    "                  a vegetarian                                                  \n",
    "                 sandwich on the                                                \n",
    "                                                                                \n",
    "                   wayand were                                                  \n",
    "                 jointly outraged                                               \n",
    "\"\"\""
   ]
  },
  {
   "cell_type": "code",
   "execution_count": 17,
   "metadata": {},
   "outputs": [
    {
     "data": {
      "text/html": [
       "<img src=\"https://chart.googleapis.com/chart?cht=gv&chl=digraph%7Branksep%3D0.2%3Bnode%5Bshape%3Dbox%2Cwidth%3D0.05%2Cheight%3D0.05%2Cmargin%3D0.04%2Ccolor%3D%22%23C7C7C7%22%2Cstyle%3Dfilled%2Cfillcolor%3D%22%23F3F3F3%22%2Cfontsize%3D10%2Cfontcolor%3D%22%23333333%22%5D%3Bedge%5Bpenwidth%3D1%2Carrowhead%3Dnone%2Ccolor%3D%22%23C7C7C8%22%5D%3Bn0%5Blabel%3D%22Elaboration%22%5D%3Bn1%5Blabel%3D%22N%22%5D%3Bn2%5Blabel%3D%22Students+and+lecturers+alike+are+worried+about+global+warming+and+related+climate+change+.%22%5D%3Bn3%5Blabel%3D%22S%22%5D%3Bn4%5Blabel%3D%22Elaboration%22%5D%3Bn5%5Blabel%3D%22N%22%5D%3Bn6%5Blabel%3D%22Background%22%5D%3Bn7%5Blabel%3D%22N%22%5D%3Bn8%5Blabel%3D%22With+a+clear+ecological+conscience+and+convinced+that+they+stand+on+the+right+side+of+history+%2C+they+cycle+to+their+university+campus+%2C+buy+a+vegetarian+sandwich+on+the+wayand+were+jointly+outraged%22%5D%3Bn9%5Blabel%3D%22S%22%5D%3Bn10%5Blabel%3D%22when+Donald+Trump+pulled+the+US+out+of+the+Paris+Climate+Agreement+.%22%5D%3Bn11%5Blabel%3D%22S%22%5D%3Bn12%5Blabel%3D%22Students+and+lecturers+alike+are+worried+about+global+warming+and+related+climate+change+.%22%5D%3Bn0-%3En1%3Bn1-%3En2%3Bn0-%3En3%3Bn3-%3En4%3Bn4-%3En5%3Bn5-%3En6%3Bn6-%3En7%3Bn7-%3En8%3Bn6-%3En9%3Bn9-%3En10%3Bn4-%3En11%3Bn11-%3En12%3B%7D&ext=.png\"/>"
      ],
      "text/plain": [
       "<Tree 'Elaboration (N (Students and lecturers alike are worried about global warming and related climate change .) S (Elaboration (N (Background (N (With a clear ecological conscience and convinced that they stand on the right side of history , they cycle to their university campus , buy a vegetarian sandwich on the wayand were jointly outraged) S (when Donald Trump pulled the US out of the Paris Climate Agreement .))) S (Students and lecturers alike are worried about global warming and related climate change .))))' @7f63d4052f50>"
      ]
     },
     "execution_count": 17,
     "metadata": {},
     "output_type": "execute_result"
    }
   ],
   "source": [
    "l0 = Node(leaves[0])\n",
    "l1 = Node(leaves[1])\n",
    "l2 = Node(leaves[2])\n",
    "l3 = Node(leaves[0])\n",
    "\n",
    "root = Node('Elaboration',\n",
    "            [\n",
    "                Node('N',\n",
    "                     [Node(l0)]),\n",
    "                Node('S', \n",
    "                     [Node('Elaboration',\n",
    "                           [\n",
    "                               Node('N',\n",
    "                                    [Node('Background',\n",
    "                                          [\n",
    "                                              Node('N',\n",
    "                                                   [Node(l1)]),\n",
    "                                              Node('S',\n",
    "                                                   [Node(l2)])\n",
    "                                          ])]),\n",
    "                               Node('S',\n",
    "                                    [Node(l3)])\n",
    "                           ])])\n",
    "            ])\n",
    "\n",
    "ht = Tree(root)\n",
    "ht"
   ]
  },
  {
   "cell_type": "code",
   "execution_count": 24,
   "metadata": {},
   "outputs": [
    {
     "name": "stdout",
     "output_type": "stream",
     "text": [
      "Elaboration\n",
      "    N\n",
      "        Students and lecturers alike are worried about global warming and related climate change .\n",
      "    S\n",
      "        Elaboration\n",
      "            N\n",
      "                Background\n",
      "                    N\n",
      "                        With a clear ecological conscience and convinced that they stand on the right side of history , they cycle to their university campus , buy a vegetarian sandwich on the wayand were jointly outraged\n",
      "                    S\n",
      "                        when Donald Trump pulled the US out of the Paris Climate Agreement .\n",
      "            S\n",
      "                Students and lecturers alike are worried about global warming and related climate change .\n",
      "\n"
     ]
    }
   ],
   "source": [
    "print(ht.save(treepace.IndentedText))"
   ]
  },
  {
   "cell_type": "code",
   "execution_count": 37,
   "metadata": {},
   "outputs": [
    {
     "data": {
      "text/plain": [
       "'digraph{ranksep=0.2;node[shape=box,width=0.05,height=0.05,margin=0.04,color=\"#C7C7C7\",style=filled,fillcolor=\"#F3F3F3\",fontsize=10,fontcolor=\"#333333\"];edge[penwidth=1,arrowhead=none,color=\"#C7C7C8\"];n0[label=\"Elaboration\"];n1[label=\"N\"];n2[label=\"Students and lecturers alike are worried about global warming and related climate change .\"];n3[label=\"S\"];n4[label=\"Elaboration\"];n5[label=\"N\"];n6[label=\"Background\"];n7[label=\"N\"];n8[label=\"With a clear ecological conscience and convinced that they stand on the right side of history , they cycle to their university campus , buy a vegetarian sandwich on the wayand were jointly outraged\"];n9[label=\"S\"];n10[label=\"when Donald Trump pulled the US out of the Paris Climate Agreement .\"];n11[label=\"S\"];n12[label=\"Students and lecturers alike are worried about global warming and related climate change .\"];n0->n1;n1->n2;n0->n3;n3->n4;n4->n5;n5->n6;n6->n7;n7->n8;n6->n9;n9->n10;n4->n11;n11->n12;}'"
      ]
     },
     "execution_count": 37,
     "metadata": {},
     "output_type": "execute_result"
    }
   ],
   "source": [
    "ht.save(treepace.DotText)"
   ]
  },
  {
   "cell_type": "code",
   "execution_count": 36,
   "metadata": {},
   "outputs": [
    {
     "ename": "TypeError",
     "evalue": "unhashable type: 'Tree'",
     "output_type": "error",
     "traceback": [
      "\u001b[0;31m---------------------------------------------------------------------------\u001b[0m",
      "\u001b[0;31mTypeError\u001b[0m                                 Traceback (most recent call last)",
      "\u001b[0;32m<ipython-input-36-a07a8fdd93af>\u001b[0m in \u001b[0;36m<module>\u001b[0;34m\u001b[0m\n\u001b[1;32m      1\u001b[0m \u001b[0mdt\u001b[0m \u001b[0;34m=\u001b[0m \u001b[0mtreepace\u001b[0m\u001b[0;34m.\u001b[0m\u001b[0mDotText\u001b[0m\u001b[0;34m(\u001b[0m\u001b[0;34m)\u001b[0m\u001b[0;34m\u001b[0m\u001b[0;34m\u001b[0m\u001b[0m\n\u001b[0;32m----> 2\u001b[0;31m \u001b[0mdt\u001b[0m\u001b[0;34m.\u001b[0m\u001b[0msave_tree\u001b[0m\u001b[0;34m(\u001b[0m\u001b[0mht\u001b[0m\u001b[0;34m)\u001b[0m\u001b[0;34m\u001b[0m\u001b[0;34m\u001b[0m\u001b[0m\n\u001b[0m",
      "\u001b[0;32m~/.virtualenvs/rst-workbench/lib/python3.7/site-packages/treepace/formats.py\u001b[0m in \u001b[0;36msave_tree\u001b[0;34m(self, tree, subtree, match, groups)\u001b[0m\n\u001b[1;32m    157\u001b[0m \u001b[0;34m\u001b[0m\u001b[0m\n\u001b[1;32m    158\u001b[0m         \u001b[0;32mfor\u001b[0m \u001b[0mindex\u001b[0m\u001b[0;34m,\u001b[0m \u001b[0mnode\u001b[0m \u001b[0;32min\u001b[0m \u001b[0menumerate\u001b[0m\u001b[0;34m(\u001b[0m\u001b[0mtreepace\u001b[0m\u001b[0;34m.\u001b[0m\u001b[0mtrees\u001b[0m\u001b[0;34m.\u001b[0m\u001b[0mTree\u001b[0m\u001b[0;34m(\u001b[0m\u001b[0mtree\u001b[0m\u001b[0;34m)\u001b[0m\u001b[0;34m.\u001b[0m\u001b[0mpreorder\u001b[0m\u001b[0;34m(\u001b[0m\u001b[0;34m)\u001b[0m\u001b[0;34m)\u001b[0m\u001b[0;34m:\u001b[0m\u001b[0;34m\u001b[0m\u001b[0;34m\u001b[0m\u001b[0m\n\u001b[0;32m--> 159\u001b[0;31m             \u001b[0mnodes\u001b[0m\u001b[0;34m[\u001b[0m\u001b[0mnode\u001b[0m\u001b[0;34m]\u001b[0m \u001b[0;34m=\u001b[0m \u001b[0mindex\u001b[0m\u001b[0;34m\u001b[0m\u001b[0;34m\u001b[0m\u001b[0m\n\u001b[0m\u001b[1;32m    160\u001b[0m             \u001b[0mcolor\u001b[0m \u001b[0;34m=\u001b[0m \u001b[0;34m''\u001b[0m\u001b[0;34m\u001b[0m\u001b[0;34m\u001b[0m\u001b[0m\n\u001b[1;32m    161\u001b[0m             \u001b[0;32mif\u001b[0m \u001b[0msubtree\u001b[0m \u001b[0;32mand\u001b[0m \u001b[0mnode\u001b[0m \u001b[0;32min\u001b[0m \u001b[0msubtree\u001b[0m\u001b[0;34m.\u001b[0m\u001b[0mnodes\u001b[0m\u001b[0;34m:\u001b[0m\u001b[0;34m\u001b[0m\u001b[0;34m\u001b[0m\u001b[0m\n",
      "\u001b[0;31mTypeError\u001b[0m: unhashable type: 'Tree'"
     ]
    }
   ],
   "source": [
    "dt = treepace.DotText()\n",
    "dt.save_tree(ht)"
   ]
  },
  {
   "cell_type": "code",
   "execution_count": 6,
   "metadata": {},
   "outputs": [],
   "source": [
    "t = Tree.load(f\"Elaboration (N ({leaves[0]}) S (Elaboration (N (Background (N ({leaves[1]})) (S ({leaves[2]})))) (S ({leaves[3]}))))\")"
   ]
  },
  {
   "cell_type": "code",
   "execution_count": 7,
   "metadata": {},
   "outputs": [
    {
     "data": {
      "text/html": [
       "<img src=\"https://chart.googleapis.com/chart?cht=gv&chl=digraph%7Branksep%3D0.2%3Bnode%5Bshape%3Dbox%2Cwidth%3D0.05%2Cheight%3D0.05%2Cmargin%3D0.04%2Ccolor%3D%22%23C7C7C7%22%2Cstyle%3Dfilled%2Cfillcolor%3D%22%23F3F3F3%22%2Cfontsize%3D10%2Cfontcolor%3D%22%23333333%22%5D%3Bedge%5Bpenwidth%3D1%2Carrowhead%3Dnone%2Ccolor%3D%22%23C7C7C8%22%5D%3Bn0%5Blabel%3D%22Students+and+lecturers+alike+are+worried+about+global+warming+and+related+climate+change+.%22%5D%3B%7D&ext=.png\"/>"
      ],
      "text/plain": [
       "<Node 'Students and lecturers alike are worried about global warming and related climate change .' @7f63d403e750>"
      ]
     },
     "execution_count": 7,
     "metadata": {},
     "output_type": "execute_result"
    }
   ],
   "source": [
    "Node(leaves[0])"
   ]
  },
  {
   "cell_type": "code",
   "execution_count": 8,
   "metadata": {},
   "outputs": [
    {
     "data": {
      "text/plain": [
       "'Elaboration (N (Students and lecturers alike are worried about global warming and related climate change .) S (Elaboration (N (Background (N (With a clear ecological conscience and convinced that they stand on the right side of history , they cycle to their university campus , buy a vegetarian sandwich on the wayand were jointly outraged) S (when Donald Trump pulled the US out of the Paris Climate Agreement .))) S (However , their own contribution to climate change is all too often ignored .))))'"
      ]
     },
     "execution_count": 8,
     "metadata": {},
     "output_type": "execute_result"
    }
   ],
   "source": [
    "t.__str__()"
   ]
  },
  {
   "cell_type": "code",
   "execution_count": 9,
   "metadata": {},
   "outputs": [
    {
     "data": {
      "text/plain": [
       "\"<Tree 'Elaboration (N (Students and lecturers alike are worried about global warming and related climate change .) S (Elaboration (N (Background (N (With a clear ecological conscience and convinced that they stand on the right side of history , they cycle to their university campus , buy a vegetarian sandwich on the wayand were jointly outraged) S (when Donald Trump pulled the US out of the Paris Climate Agreement .))) S (However , their own contribution to climate change is all too often ignored .))))' @7f63d40f0410>\""
      ]
     },
     "execution_count": 9,
     "metadata": {},
     "output_type": "execute_result"
    }
   ],
   "source": [
    "t.__repr__()"
   ]
  },
  {
   "cell_type": "code",
   "execution_count": 10,
   "metadata": {},
   "outputs": [
    {
     "data": {
      "text/html": [
       "<img src=\"https://chart.googleapis.com/chart?cht=gv&chl=digraph%7Branksep%3D0.2%3Bnode%5Bshape%3Dbox%2Cwidth%3D0.05%2Cheight%3D0.05%2Cmargin%3D0.04%2Ccolor%3D%22%23C7C7C7%22%2Cstyle%3Dfilled%2Cfillcolor%3D%22%23F3F3F3%22%2Cfontsize%3D10%2Cfontcolor%3D%22%23333333%22%5D%3Bedge%5Bpenwidth%3D1%2Carrowhead%3Dnone%2Ccolor%3D%22%23C7C7C8%22%5D%3Bn0%5Blabel%3D%22root%22%5D%3Bn1%5Blabel%3D%22c1%22%5D%3Bn2%5Blabel%3D%22c2%22%5D%3Bn3%5Blabel%3D%22subchild%22%5D%3Bn0-%3En1%3Bn0-%3En2%3Bn2-%3En3%3B%7D&ext=.png\"/>"
      ],
      "text/plain": [
       "<Tree 'root (c1 c2 (subchild))' @7f63d404dc50>"
      ]
     },
     "execution_count": 10,
     "metadata": {},
     "output_type": "execute_result"
    }
   ],
   "source": [
    "root = Node('root',\n",
    "            [Node('c1'), Node('c2',\n",
    "                              [Node('subchild')])])\n",
    "Tree(root)"
   ]
  },
  {
   "cell_type": "code",
   "execution_count": 14,
   "metadata": {},
   "outputs": [
    {
     "data": {
      "text/html": [
       "<img src=\"https://chart.googleapis.com/chart?cht=gv&chl=digraph%7Branksep%3D0.2%3Bnode%5Bshape%3Dbox%2Cwidth%3D0.05%2Cheight%3D0.05%2Cmargin%3D0.04%2Ccolor%3D%22%23C7C7C7%22%2Cstyle%3Dfilled%2Cfillcolor%3D%22%23F3F3F3%22%2Cfontsize%3D10%2Cfontcolor%3D%22%23333333%22%5D%3Bedge%5Bpenwidth%3D1%2Carrowhead%3Dnone%2Ccolor%3D%22%23C7C7C8%22%5D%3Bn0%5Blabel%3D%22Elaboration%22%5D%3Bn1%5Blabel%3D%22N%22%5D%3Bn2%5Blabel%3D%22Students%22%5D%3Bn3%5Blabel%3D%22and%22%5D%3Bn4%5Blabel%3D%22lecturers%22%5D%3Bn5%5Blabel%3D%22alike%22%5D%3Bn6%5Blabel%3D%22are%22%5D%3Bn7%5Blabel%3D%22worried%22%5D%3Bn8%5Blabel%3D%22about%22%5D%3Bn9%5Blabel%3D%22global%22%5D%3Bn10%5Blabel%3D%22warming%22%5D%3Bn11%5Blabel%3D%22and%22%5D%3Bn12%5Blabel%3D%22related%22%5D%3Bn13%5Blabel%3D%22climate%22%5D%3Bn14%5Blabel%3D%22change%22%5D%3Bn15%5Blabel%3D%22.%22%5D%3Bn16%5Blabel%3D%22S%22%5D%3Bn17%5Blabel%3D%22Elaboration%22%5D%3Bn18%5Blabel%3D%22N%22%5D%3Bn19%5Blabel%3D%22Background%22%5D%3Bn20%5Blabel%3D%22N%22%5D%3Bn21%5Blabel%3D%22With%22%5D%3Bn22%5Blabel%3D%22a%22%5D%3Bn23%5Blabel%3D%22clear%22%5D%3Bn24%5Blabel%3D%22ecological%22%5D%3Bn25%5Blabel%3D%22conscience%22%5D%3Bn26%5Blabel%3D%22and%22%5D%3Bn27%5Blabel%3D%22convinced%22%5D%3Bn28%5Blabel%3D%22that%22%5D%3Bn29%5Blabel%3D%22they%22%5D%3Bn30%5Blabel%3D%22stand%22%5D%3Bn31%5Blabel%3D%22on%22%5D%3Bn32%5Blabel%3D%22the%22%5D%3Bn33%5Blabel%3D%22right%22%5D%3Bn34%5Blabel%3D%22side%22%5D%3Bn35%5Blabel%3D%22of%22%5D%3Bn36%5Blabel%3D%22history%22%5D%3Bn37%5Blabel%3D%22%2C%22%5D%3Bn38%5Blabel%3D%22they%22%5D%3Bn39%5Blabel%3D%22cycle%22%5D%3Bn40%5Blabel%3D%22to%22%5D%3Bn41%5Blabel%3D%22their%22%5D%3Bn42%5Blabel%3D%22university%22%5D%3Bn43%5Blabel%3D%22campus%22%5D%3Bn44%5Blabel%3D%22%2C%22%5D%3Bn45%5Blabel%3D%22buy%22%5D%3Bn46%5Blabel%3D%22a%22%5D%3Bn47%5Blabel%3D%22vegetarian%22%5D%3Bn48%5Blabel%3D%22sandwich%22%5D%3Bn49%5Blabel%3D%22on%22%5D%3Bn50%5Blabel%3D%22the%22%5D%3Bn51%5Blabel%3D%22wayand%22%5D%3Bn52%5Blabel%3D%22were%22%5D%3Bn53%5Blabel%3D%22jointly%22%5D%3Bn54%5Blabel%3D%22outraged%22%5D%3Bn55%5Blabel%3D%22S%22%5D%3Bn56%5Blabel%3D%22when%22%5D%3Bn57%5Blabel%3D%22Donald%22%5D%3Bn58%5Blabel%3D%22Trump%22%5D%3Bn59%5Blabel%3D%22pulled%22%5D%3Bn60%5Blabel%3D%22the%22%5D%3Bn61%5Blabel%3D%22US%22%5D%3Bn62%5Blabel%3D%22out%22%5D%3Bn63%5Blabel%3D%22of%22%5D%3Bn64%5Blabel%3D%22the%22%5D%3Bn65%5Blabel%3D%22Paris%22%5D%3Bn66%5Blabel%3D%22Climate%22%5D%3Bn67%5Blabel%3D%22Agreement%22%5D%3Bn68%5Blabel%3D%22.%22%5D%3Bn69%5Blabel%3D%22S%22%5D%3Bn70%5Blabel%3D%22However%22%5D%3Bn71%5Blabel%3D%22%2C%22%5D%3Bn72%5Blabel%3D%22their%22%5D%3Bn73%5Blabel%3D%22own%22%5D%3Bn74%5Blabel%3D%22contribution%22%5D%3Bn75%5Blabel%3D%22to%22%5D%3Bn76%5Blabel%3D%22climate%22%5D%3Bn77%5Blabel%3D%22change%22%5D%3Bn78%5Blabel%3D%22is%22%5D%3Bn79%5Blabel%3D%22all%22%5D%3Bn80%5Blabel%3D%22too%22%5D%3Bn81%5Blabel%3D%22often%22%5D%3Bn82%5Blabel%3D%22ignored%22%5D%3Bn83%5Blabel%3D%22.%22%5D%3Bn0-%3En1%3Bn1-%3En2%3Bn1-%3En3%3Bn1-%3En4%3Bn1-%3En5%3Bn1-%3En6%3Bn1-%3En7%3Bn1-%3En8%3Bn1-%3En9%3Bn1-%3En10%3Bn1-%3En11%3Bn1-%3En12%3Bn1-%3En13%3Bn1-%3En14%3Bn1-%3En15%3Bn0-%3En16%3Bn16-%3En17%3Bn17-%3En18%3Bn18-%3En19%3Bn19-%3En20%3Bn20-%3En21%3Bn20-%3En22%3Bn20-%3En23%3Bn20-%3En24%3Bn20-%3En25%3Bn20-%3En26%3Bn20-%3En27%3Bn20-%3En28%3Bn20-%3En29%3Bn20-%3En30%3Bn20-%3En31%3Bn20-%3En32%3Bn20-%3En33%3Bn20-%3En34%3Bn20-%3En35%3Bn20-%3En36%3Bn20-%3En37%3Bn20-%3En38%3Bn20-%3En39%3Bn20-%3En40%3Bn20-%3En41%3Bn20-%3En42%3Bn20-%3En43%3Bn20-%3En44%3Bn20-%3En45%3Bn20-%3En46%3Bn20-%3En47%3Bn20-%3En48%3Bn20-%3En49%3Bn20-%3En50%3Bn20-%3En51%3Bn20-%3En52%3Bn20-%3En53%3Bn20-%3En54%3Bn19-%3En55%3Bn55-%3En56%3Bn55-%3En57%3Bn55-%3En58%3Bn55-%3En59%3Bn55-%3En60%3Bn55-%3En61%3Bn55-%3En62%3Bn55-%3En63%3Bn55-%3En64%3Bn55-%3En65%3Bn55-%3En66%3Bn55-%3En67%3Bn55-%3En68%3Bn17-%3En69%3Bn69-%3En70%3Bn69-%3En71%3Bn69-%3En72%3Bn69-%3En73%3Bn69-%3En74%3Bn69-%3En75%3Bn69-%3En76%3Bn69-%3En77%3Bn69-%3En78%3Bn69-%3En79%3Bn69-%3En80%3Bn69-%3En81%3Bn69-%3En82%3Bn69-%3En83%3B%7D&ext=.png\"/>"
      ],
      "text/plain": [
       "<Tree 'Elaboration (N (Students and lecturers alike are worried about global warming and related climate change .) S (Elaboration (N (Background (N (With a clear ecological conscience and convinced that they stand on the right side of history , they cycle to their university campus , buy a vegetarian sandwich on the wayand were jointly outraged) S (when Donald Trump pulled the US out of the Paris Climate Agreement .))) S (However , their own contribution to climate change is all too often ignored .))))' @7f63d40f0410>"
      ]
     },
     "execution_count": 14,
     "metadata": {},
     "output_type": "execute_result"
    }
   ],
   "source": [
    "t"
   ]
  },
  {
   "cell_type": "code",
   "execution_count": null,
   "metadata": {},
   "outputs": [],
   "source": []
  },
  {
   "cell_type": "code",
   "execution_count": null,
   "metadata": {},
   "outputs": [],
   "source": []
  }
 ],
 "metadata": {
  "kernelspec": {
   "display_name": "Python 3",
   "language": "python",
   "name": "python3"
  },
  "language_info": {
   "codemirror_mode": {
    "name": "ipython",
    "version": 3
   },
   "file_extension": ".py",
   "mimetype": "text/x-python",
   "name": "python",
   "nbconvert_exporter": "python",
   "pygments_lexer": "ipython3",
   "version": "3.7.5"
  }
 },
 "nbformat": 4,
 "nbformat_minor": 4
}
